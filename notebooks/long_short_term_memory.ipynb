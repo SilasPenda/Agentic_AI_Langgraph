{
 "cells": [
  {
   "cell_type": "markdown",
   "metadata": {},
   "source": [
    "## Customer Support Long & Short Term Memory"
   ]
  },
  {
   "cell_type": "code",
   "execution_count": 1,
   "metadata": {},
   "outputs": [
    {
     "data": {
      "text/plain": [
       "True"
      ]
     },
     "execution_count": 1,
     "metadata": {},
     "output_type": "execute_result"
    }
   ],
   "source": [
    "import os\n",
    "import uuid\n",
    "from pprint import pprint\n",
    "from dotenv import load_dotenv\n",
    "\n",
    "from langgraph.store.memory import InMemoryStore\n",
    "from langchain_openai import ChatOpenAI\n",
    "from langchain_core.messages import HumanMessage, AIMessage\n",
    "\n",
    "load_dotenv()"
   ]
  },
  {
   "cell_type": "code",
   "execution_count": 2,
   "metadata": {},
   "outputs": [],
   "source": [
    "os.environ[\"LANGCHAIN_PROJECT\"] = \"langchain_customer_support_agent\"\n",
    "os.environ[\"LANGCHAIN_TRACING_V2\"] = \"true\""
   ]
  },
  {
   "cell_type": "code",
   "execution_count": 3,
   "metadata": {},
   "outputs": [],
   "source": [
    "in_memory_store = InMemoryStore()"
   ]
  },
  {
   "cell_type": "markdown",
   "metadata": {},
   "source": [
    "### Store Information in Long Term Memory"
   ]
  },
  {
   "cell_type": "code",
   "execution_count": 4,
   "metadata": {},
   "outputs": [],
   "source": [
    "# Namespace for the memory to save\n",
    "customer_id = \"1\"\n",
    "namespace_for_memory = (customer_id, \"customer_interactions\")\n",
    "\n",
    "# Save memory to namespace as key-value pairs\n",
    "key = str(uuid.uuid4())\n",
    "\n",
    "values = {\"name\": \"John Doe\", \"email\": \"johndoe@example.com\"}\n",
    "\n",
    "# Save the memory to disk\n",
    "in_memory_store.put(namespace=namespace_for_memory, key=key, value=values)"
   ]
  },
  {
   "cell_type": "markdown",
   "metadata": {},
   "source": [
    "### Search Memory"
   ]
  },
  {
   "cell_type": "code",
   "execution_count": 5,
   "metadata": {},
   "outputs": [
    {
     "data": {
      "text/plain": [
       "list"
      ]
     },
     "execution_count": 5,
     "metadata": {},
     "output_type": "execute_result"
    }
   ],
   "source": [
    "memories = in_memory_store.search(namespace_for_memory)\n",
    "type(memories)"
   ]
  },
  {
   "cell_type": "code",
   "execution_count": 6,
   "metadata": {},
   "outputs": [
    {
     "name": "stdout",
     "output_type": "stream",
     "text": [
      "{'namespace': ['1', 'customer_interactions'], 'key': 'c1521901-9d8c-44ab-8b1b-5722aac8d4d7', 'value': {'name': 'John Doe', 'email': 'johndoe@example.com'}, 'created_at': '2025-02-16T21:27:44.037840+00:00', 'updated_at': '2025-02-16T21:27:44.037840+00:00', 'score': None}\n"
     ]
    }
   ],
   "source": [
    "memory = in_memory_store.get(namespace=namespace_for_memory, key=key)\n",
    "\n",
    "if memory:\n",
    "    print(memories[0].dict())"
   ]
  },
  {
   "cell_type": "markdown",
   "metadata": {},
   "source": [
    "##### Getting Memory Using Key and Namespace"
   ]
  },
  {
   "cell_type": "code",
   "execution_count": 7,
   "metadata": {},
   "outputs": [
    {
     "name": "stdout",
     "output_type": "stream",
     "text": [
      "{'namespace': ['1', 'customer_interactions'], 'key': 'c1521901-9d8c-44ab-8b1b-5722aac8d4d7', 'value': {'name': 'John Doe', 'email': 'johndoe@example.com'}, 'created_at': '2025-02-16T21:27:44.037840+00:00', 'updated_at': '2025-02-16T21:27:44.037840+00:00'}\n"
     ]
    }
   ],
   "source": [
    "memory = in_memory_store.get(namespace=namespace_for_memory, key=key)\n",
    "\n",
    "if memory:\n",
    "    print(memory.dict())"
   ]
  },
  {
   "cell_type": "markdown",
   "metadata": {},
   "source": [
    "##### Delete Memory"
   ]
  },
  {
   "cell_type": "code",
   "execution_count": 8,
   "metadata": {},
   "outputs": [],
   "source": [
    "in_memory_store.delete(namespace=namespace_for_memory, key=key)"
   ]
  },
  {
   "cell_type": "code",
   "execution_count": 9,
   "metadata": {},
   "outputs": [
    {
     "name": "stdout",
     "output_type": "stream",
     "text": [
      "Memory not found\n"
     ]
    }
   ],
   "source": [
    "memory = in_memory_store.get(namespace=namespace_for_memory, key=key)\n",
    "\n",
    "if memory:\n",
    "    print(memory.dict())\n",
    "else:\n",
    "    print(\"Memory not found\")"
   ]
  },
  {
   "cell_type": "markdown",
   "metadata": {},
   "source": [
    "### Creating Customer Support Agent With Long & Short Term Memory"
   ]
  },
  {
   "cell_type": "code",
   "execution_count": 10,
   "metadata": {},
   "outputs": [],
   "source": [
    "openai_api_key = os.getenv(\"OPENAI_API_KEY\")\n",
    "\n",
    "model = ChatOpenAI(model_name=\"gpt-4o\", openai_api_key = openai_api_key)"
   ]
  },
  {
   "cell_type": "code",
   "execution_count": 11,
   "metadata": {},
   "outputs": [],
   "source": [
    "COMPANY_NAME = \"ST Penda Inc.\"  \n",
    "\n",
    "MODEL_SYSTEM_MESSAGE = \"\"\"You are a customer support assistant for {company_name}.\n",
    "        You are here to help customers with their issues and provide them with the best possible solution.\n",
    "        You are to use the customer's history to provide relevant and personalized support.\n",
    "        You are here to make sure that the customers are satisfied with the services provided by {company_name}.\n",
    "        Cutomer profile: {history}\"\"\"\n",
    "\n",
    "CREATE_HISTORY_INSTRUCTION = \"\"\"Update the customer profile with new support interaction details.\n",
    "        \n",
    "        CURRENT PROFILE: {history}\n",
    "        \n",
    "        ANALYZE FOR:\n",
    "        1. Contact history\n",
    "        2. Product usage/purchases\n",
    "        3. Previous issues/resolutions\n",
    "        4. Preferences (communicaion, products, etc.)\n",
    "        5. Special Circumstances (e.g. returning customer, VIP, etc.)\n",
    "        \n",
    "        Focus on verified support interactions only. Summarize key details clearly.\n",
    "        \n",
    "        Update profile based on this conversation.\"\"\""
   ]
  },
  {
   "cell_type": "markdown",
   "metadata": {},
   "source": [
    "### Nodes"
   ]
  },
  {
   "cell_type": "code",
   "execution_count": 12,
   "metadata": {},
   "outputs": [],
   "source": [
    "from IPython.display import Image, display\n",
    "from langgraph.checkpoint.memory import MemorySaver\n",
    "from langgraph.graph import StateGraph, MessagesState, START, END\n",
    "from langgraph.store.base import BaseStore\n",
    "\n",
    "from langchain_core.messages import HumanMessage, AIMessage, SystemMessage\n",
    "from langchain_core.runnables.config import RunnableConfig"
   ]
  },
  {
   "cell_type": "code",
   "execution_count": 13,
   "metadata": {},
   "outputs": [],
   "source": [
    "def call_model(state: MessagesState, config: RunnableConfig, store: BaseStore):\n",
    "    \"\"\"\n",
    "    Generate AI responce using customer context and history.\n",
    "    \n",
    "    Args:\n",
    "        state: Current conversation messages\n",
    "        config: Runtime configuration with customer_id\n",
    "        store: Persistent storage for customer profile\n",
    "        \n",
    "    Returns:\n",
    "        dict: Generated response messages\n",
    "        \n",
    "    Flow:\n",
    "        1. Get customer profile from store using ID\n",
    "        2. Format system prompt with customer context\n",
    "        3. Generate personalized response\n",
    "\n",
    "    \"\"\"\n",
    "    # Get customer ID and profile from store\n",
    "    customer_id = config[\"configurable\"][\"customer_id\"]\n",
    "    namespace = (\"customer_interactions\", customer_id)\n",
    "    key = \"customer_data_memory\"\n",
    "    memory = store.get(namespace=namespace, key=key)\n",
    "\n",
    "    # Extract interaction history or set default for new customers\n",
    "    history = memory.value.get(\"customer_data_memory\") if memory else \"No existing memory found\"\n",
    "\n",
    "    # Generate response with customer context\n",
    "    system_message = MODEL_SYSTEM_MESSAGE.format(history=history, company_name=COMPANY_NAME)\n",
    "    response = model.invoke([SystemMessage(content=system_message)] + state[\"messages\"])\n",
    "\n",
    "    return {\"messages\": response}"
   ]
  },
  {
   "cell_type": "code",
   "execution_count": 14,
   "metadata": {},
   "outputs": [],
   "source": [
    "def write_memory(state: MessagesState, config: RunnableConfig, store: BaseStore):\n",
    "    \"\"\"\n",
    "    Updates customer interaction history in persistent storage.\n",
    "    \n",
    "    Args:\n",
    "        state: Current conversation messages\n",
    "        config: Runtime configuration with customer_id\n",
    "        store: Persistent storage for customer profile\n",
    "        \n",
    "    Flow:\n",
    "        1. Retrieves existing customer history\n",
    "        2. Analyzes conversation for key details\n",
    "        3. Updates stored history with new data\n",
    "    \n",
    "    \"\"\"\n",
    "\n",
    "    # Get customer history\n",
    "    user_id = config[\"configurable\"][\"customer_id\"]\n",
    "    namespace = (\"customer_interactions\", user_id)\n",
    "    key = \"customer_data_memory\"\n",
    "    memory = store.get(namespace=namespace, key=key)\n",
    "\n",
    "    # Extract existing history or set default for new customers\n",
    "    history = memory.value.get(\"key\") if memory else \"No existing history found\"\n",
    "\n",
    "    # Generate and store updated history\n",
    "    system_msg = CREATE_HISTORY_INSTRUCTION.format(history=history)\n",
    "    new_details = model.invoke([SystemMessage(content=system_msg)] + state[\"messages\"])\n",
    "    store.put(namespace=namespace, key=key, value={\"customer_data_memory\": new_details.content})"
   ]
  },
  {
   "cell_type": "code",
   "execution_count": 15,
   "metadata": {},
   "outputs": [],
   "source": [
    "# Build conversational AI system with memory persistence\n",
    "builder = StateGraph(MessagesState)\n",
    "\n",
    "# Add core processing nodes\n",
    "builder.add_node(\"call_model\", call_model)          # AI response generator\n",
    "builder.add_node(\"write_memory\", write_memory)      # Memory persistence node\n",
    "\n",
    "# Configure processin flow\n",
    "builder.add_edge(START, \"call_model\")               # Initial: Generate response\n",
    "builder.add_edge(\"call_model\", \"write_memory\")      # Next: Save conversation context\n",
    "builder.add_edge(\"write_memory\", END)               # Finally: Complete interaction cycle\n",
    "\n",
    "# Initialize memory stores\n",
    "across_thread_memory = InMemoryStore()              # Long-term customer history storage\n",
    "within_thread_memory = MemorySaver()                # Current conversation buffer\n",
    "\n",
    "# Compile graph with memory configuration\n",
    "graph = builder.compile(\n",
    "    checkpointer=within_thread_memory,              # Track conversation state\n",
    "    store=across_thread_memory,                     # Persist customer interactions\n",
    ")\n"
   ]
  },
  {
   "cell_type": "code",
   "execution_count": 16,
   "metadata": {},
   "outputs": [
    {
     "data": {
      "image/png": "[encoded data removed]",
      "text/plain": [
       "<IPython.core.display.Image object>"
      ]
     },
     "metadata": {},
     "output_type": "display_data"
    }
   ],
   "source": [
    "display(Image(graph.get_graph(xray=1).draw_mermaid_png()))"
   ]
  },
  {
   "cell_type": "code",
   "execution_count": 17,
   "metadata": {},
   "outputs": [],
   "source": [
    "# Initialize conversation configuration\n",
    "config = {\n",
    "    \"configurable\": {\n",
    "        \"thread_id\": \"1\",       # Current conversation ID\n",
    "        \"customer_id\": \"1\"      # Customer profile ID\n",
    "    }\n",
    "}"
   ]
  },
  {
   "cell_type": "code",
   "execution_count": null,
   "metadata": {},
   "outputs": [
    {
     "name": "stderr",
     "output_type": "stream",
     "text": [
      "c:\\Users\\penda\\Desktop\\Workspace\\My_Projects\\Agentic_AI\\Agentic_AI_Langgraph\\venv\\lib\\site-packages\\langsmith\\client.py:253: LangSmithMissingAPIKeyWarning: API key must be provided when using hosted LangSmith API\n",
      "  warnings.warn(\n"
     ]
    },
    {
     "name": "stdout",
     "output_type": "stream",
     "text": [
      "================================\u001b[1m Human Message \u001b[0m=================================\n",
      "\n",
      "Hello, My name is Samuel Terhemen and i would like to know about your car maintenance services\n"
     ]
    },
    {
     "name": "stderr",
     "output_type": "stream",
     "text": [
      "Failed to multipart ingest runs: langsmith.utils.LangSmithAuthError: Authentication failed for https://api.smith.langchain.com/runs/multipart. HTTPError('401 Client Error: Unauthorized for url: https://api.smith.langchain.com/runs/multipart', '{\"error\":\"Unauthorized\"}\\n')trace=136ca1ed-30c1-470d-885f-28859b94a416,id=136ca1ed-30c1-470d-885f-28859b94a416; trace=136ca1ed-30c1-470d-885f-28859b94a416,id=a9bb17b7-ea4c-4a0e-80fc-aa4e6cd27bd8; trace=136ca1ed-30c1-470d-885f-28859b94a416,id=fbaa81b3-5490-462d-bf30-24d6a6e8e9be; trace=136ca1ed-30c1-470d-885f-28859b94a416,id=5c09914c-a4b8-459a-adb4-844d2eb72cc8; trace=136ca1ed-30c1-470d-885f-28859b94a416,id=4efa4d54-5466-4fa7-92ff-efbb25a60343; trace=136ca1ed-30c1-470d-885f-28859b94a416,id=881024e3-5ecd-4141-8651-08c3a1c86e2e\n"
     ]
    },
    {
     "name": "stdout",
     "output_type": "stream",
     "text": [
      "==================================\u001b[1m Ai Message \u001b[0m==================================\n",
      "\n",
      "Hello Samuel! Thank you for reaching out to us. At ST Penda Inc., we offer a range of car maintenance services to keep your vehicle in top condition. Our services include:\n",
      "\n",
      "1. **Oil and Filter Change**: Regular oil changes to keep your engine running smoothly.\n",
      "2. **Brake Inspection and Repair**: Ensuring your brakes are functioning correctly for safe driving.\n",
      "3. **Tire Services**: Including tire rotation, balancing, and replacement.\n",
      "4. **Battery Check and Replacement**: Making sure your battery is in good health or replacing it if needed.\n",
      "5. **Fluid Checks and Top-Ups**: Checking and topping up all essential fluids like coolant, brake fluid, transmission fluid, etc.\n",
      "6. **Engine Diagnostics**: Using the latest technology to diagnose and fix engine issues.\n",
      "7. **Regular Maintenance Packages**: Tailored to your vehicle's specific needs.\n",
      "\n",
      "If you have any specific questions or need advice on any issue you're experiencing with your car, feel free to ask! We're here to help.\n"
     ]
    },
    {
     "name": "stderr",
     "output_type": "stream",
     "text": [
      "Failed to send compressed multipart ingest: langsmith.utils.LangSmithAuthError: Authentication failed for https://api.smith.langchain.com/runs/multipart. HTTPError('401 Client Error: Unauthorized for url: https://api.smith.langchain.com/runs/multipart', '{\"error\":\"Unauthorized\"}\\n')\n"
     ]
    }
   ],
   "source": [
    "# Set initial conversation message\n",
    "input_msg = [HumanMessage(content=\"Hello, My name is Samuel Terhemen and i would like to know about your car maintenance services\")]\n",
    "\n",
    "# Process conversations with streaming response\n",
    "for chunk in graph.stream({\"messages\": input_msg}, config, stream_mode=\"values\"):   # Message content, Config parameters, Stream format\n",
    "    chunk[\"messages\"][-1].pretty_print()  # Print last message in the chunk"
   ]
  },
  {
   "cell_type": "code",
   "execution_count": 19,
   "metadata": {},
   "outputs": [
    {
     "name": "stdout",
     "output_type": "stream",
     "text": [
      "================================\u001b[1m Human Message \u001b[0m=================================\n",
      "\n",
      "Last time i visited your shop, i was told i can enroll for a monthly maintenance plan. What are the available plans and cost?\n",
      "==================================\u001b[1m Ai Message \u001b[0m==================================\n",
      "\n",
      "At ST Penda Inc., we offer several monthly maintenance plans designed to meet different needs and budgets. Here’s a brief overview of our available plans:\n",
      "\n",
      "1. **Basic Maintenance Plan**:\n",
      "   - **Includes**: Oil change, tire rotation, and basic vehicle inspection.\n",
      "   - **Cost**: $29.99 per month.\n",
      "\n",
      "2. **Standard Maintenance Plan**:\n",
      "   - **Includes**: Oil change, tire rotation, brake inspection, fluid top-ups, and full vehicle inspection.\n",
      "   - **Cost**: $49.99 per month.\n",
      "\n",
      "3. **Premium Maintenance Plan**:\n",
      "   - **Includes**: All services from the Standard Plan plus battery check, engine diagnostics, and priority customer service.\n",
      "   - **Cost**: $79.99 per month.\n",
      "\n",
      "Each plan is designed to ensure your vehicle remains in excellent condition and help prevent any unexpected issues. We also offer flexible scheduling options for your convenience.\n",
      "\n",
      "If you’re interested in enrolling in a plan or need more details about what’s included in each, feel free to let me know! I'm here to help you find the best option for your needs.\n"
     ]
    },
    {
     "name": "stderr",
     "output_type": "stream",
     "text": [
      "Failed to send compressed multipart ingest: langsmith.utils.LangSmithAuthError: Authentication failed for https://api.smith.langchain.com/runs/multipart. HTTPError('401 Client Error: Unauthorized for url: https://api.smith.langchain.com/runs/multipart', '{\"error\":\"Unauthorized\"}\\n')\n",
      "Failed to send compressed multipart ingest: langsmith.utils.LangSmithAuthError: Authentication failed for https://api.smith.langchain.com/runs/multipart. HTTPError('401 Client Error: Unauthorized for url: https://api.smith.langchain.com/runs/multipart', '{\"error\":\"Unauthorized\"}\\n')\n",
      "Failed to send compressed multipart ingest: langsmith.utils.LangSmithAuthError: Authentication failed for https://api.smith.langchain.com/runs/multipart. HTTPError('401 Client Error: Unauthorized for url: https://api.smith.langchain.com/runs/multipart', '{\"error\":\"Unauthorized\"}\\n')\n"
     ]
    }
   ],
   "source": [
    "# Set initial conversation message\n",
    "input_msgs = [HumanMessage(content=\"Last time i visited your shop, i was told i can enroll for a monthly maintenance plan. What are the available plans and cost?\")]\n",
    "\n",
    "# Process conversations with streaming response\n",
    "for chunk in graph.stream({\"messages\": input_msgs}, config, stream_mode=\"values\"):  \n",
    "    chunk[\"messages\"][-1].pretty_print()"
   ]
  },
  {
   "cell_type": "code",
   "execution_count": 20,
   "metadata": {},
   "outputs": [
    {
     "data": {
      "text/plain": [
       "{'namespace': ['customer_interactions', '1'],\n",
       " 'key': 'customer_data_memory',\n",
       " 'value': {'customer_data_memory': 'To update your customer profile:\\n\\n1. **Contact History**: Samuel Terhemen has inquired about car maintenance services and monthly maintenance plans.\\n2. **Product Usage/Purchases**: Information not provided; indicated interest in potentially enrolling for a monthly maintenance plan.\\n3. **Previous Issues/Resolutions**: None mentioned.\\n4. **Preferences**: Interested in detailed information about monthly maintenance plans and cost structures.\\n5. **Special Circumstances**: Returning customer as he mentioned the last visit and previous suggestion about a monthly maintenance plan.\\n\\nSamuel could benefit from enrolling in a plan that suits his maintenance needs and budget preferences. Consider following up to assist with plan selection and enrollment logistics.'},\n",
       " 'created_at': '2025-02-16T21:27:57.372258+00:00',\n",
       " 'updated_at': '2025-02-16T21:27:57.372258+00:00'}"
      ]
     },
     "execution_count": 20,
     "metadata": {},
     "output_type": "execute_result"
    }
   ],
   "source": [
    "customer_id = \"1\"\n",
    "namespace = (\"customer_interactions\", customer_id)\n",
    "\n",
    "existing_memory = across_thread_memory.get(namespace=namespace, key=\"customer_data_memory\")\n",
    "\n",
    "existing_memory.dict()"
   ]
  },
  {
   "cell_type": "code",
   "execution_count": 29,
   "metadata": {},
   "outputs": [
    {
     "name": "stdout",
     "output_type": "stream",
     "text": [
      "customer_data_memory To update your customer profile:\n",
      "\n",
      "1. **Contact History**: Samuel Terhemen has inquired about car maintenance services and monthly maintenance plans.\n",
      "2. **Product Usage/Purchases**: Information not provided; indicated interest in potentially enrolling for a monthly maintenance plan.\n",
      "3. **Previous Issues/Resolutions**: None mentioned.\n",
      "4. **Preferences**: Interested in detailed information about monthly maintenance plans and cost structures.\n",
      "5. **Special Circumstances**: Returning customer as he mentioned the last visit and previous suggestion about a monthly maintenance plan.\n",
      "\n",
      "Samuel could benefit from enrolling in a plan that suits his maintenance needs and budget preferences. Consider following up to assist with plan selection and enrollment logistics.\n"
     ]
    }
   ],
   "source": [
    "for key, value in existing_memory.dict().get(\"value\").items():\n",
    "    print(key, value)"
   ]
  },
  {
   "cell_type": "code",
   "execution_count": 30,
   "metadata": {},
   "outputs": [
    {
     "name": "stdout",
     "output_type": "stream",
     "text": [
      "================================\u001b[1m Human Message \u001b[0m=================================\n",
      "\n",
      "Hello, My name is Samuel Terhemen and i would like to know about your car maintenance services\n",
      "==================================\u001b[1m Ai Message \u001b[0m==================================\n",
      "\n",
      "Hello Samuel! Thank you for reaching out to us. At ST Penda Inc., we offer a range of car maintenance services to keep your vehicle in top condition. Our services include:\n",
      "\n",
      "1. **Oil and Filter Change**: Regular oil changes to keep your engine running smoothly.\n",
      "2. **Brake Inspection and Repair**: Ensuring your brakes are functioning correctly for safe driving.\n",
      "3. **Tire Services**: Including tire rotation, balancing, and replacement.\n",
      "4. **Battery Check and Replacement**: Making sure your battery is in good health or replacing it if needed.\n",
      "5. **Fluid Checks and Top-Ups**: Checking and topping up all essential fluids like coolant, brake fluid, transmission fluid, etc.\n",
      "6. **Engine Diagnostics**: Using the latest technology to diagnose and fix engine issues.\n",
      "7. **Regular Maintenance Packages**: Tailored to your vehicle's specific needs.\n",
      "\n",
      "If you have any specific questions or need advice on any issue you're experiencing with your car, feel free to ask! We're here to help.\n",
      "================================\u001b[1m Human Message \u001b[0m=================================\n",
      "\n",
      "Last time i visited your shop, i was told i can enroll for a monthly maintenance plan. What are the available plans and cost?\n",
      "==================================\u001b[1m Ai Message \u001b[0m==================================\n",
      "\n",
      "At ST Penda Inc., we offer several monthly maintenance plans designed to meet different needs and budgets. Here’s a brief overview of our available plans:\n",
      "\n",
      "1. **Basic Maintenance Plan**:\n",
      "   - **Includes**: Oil change, tire rotation, and basic vehicle inspection.\n",
      "   - **Cost**: $29.99 per month.\n",
      "\n",
      "2. **Standard Maintenance Plan**:\n",
      "   - **Includes**: Oil change, tire rotation, brake inspection, fluid top-ups, and full vehicle inspection.\n",
      "   - **Cost**: $49.99 per month.\n",
      "\n",
      "3. **Premium Maintenance Plan**:\n",
      "   - **Includes**: All services from the Standard Plan plus battery check, engine diagnostics, and priority customer service.\n",
      "   - **Cost**: $79.99 per month.\n",
      "\n",
      "Each plan is designed to ensure your vehicle remains in excellent condition and help prevent any unexpected issues. We also offer flexible scheduling options for your convenience.\n",
      "\n",
      "If you’re interested in enrolling in a plan or need more details about what’s included in each, feel free to let me know! I'm here to help you find the best option for your needs.\n"
     ]
    }
   ],
   "source": [
    "thread = {\"configurable\": {\"thread_id\": \"1\"}}\n",
    "state = graph.get_state(thread).values\n",
    "\n",
    "for m in state[\"messages\"]:\n",
    "    m.pretty_print()"
   ]
  },
  {
   "cell_type": "code",
   "execution_count": null,
   "metadata": {},
   "outputs": [],
   "source": []
  }
 ],
 "metadata": {
  "kernelspec": {
   "display_name": "venv",
   "language": "python",
   "name": "python3"
  },
  "language_info": {
   "codemirror_mode": {
    "name": "ipython",
    "version": 3
   },
   "file_extension": ".py",
   "mimetype": "text/x-python",
   "name": "python",
   "nbconvert_exporter": "python",
   "pygments_lexer": "ipython3",
   "version": "3.10.11"
  }
 },
 "nbformat": 4,
 "nbformat_minor": 2
}
